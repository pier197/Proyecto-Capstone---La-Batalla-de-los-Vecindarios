{
  "nbformat": 4,
  "nbformat_minor": 0,
  "metadata": {
    "colab": {
      "provenance": [],
      "toc_visible": true,
      "include_colab_link": true
    },
    "kernelspec": {
      "name": "python3",
      "display_name": "Python 3"
    }
  },
  "cells": [
    {
      "cell_type": "markdown",
      "metadata": {
        "id": "view-in-github",
        "colab_type": "text"
      },
      "source": [
        "<a href=\"https://colab.research.google.com/github/pier197/Proyecto-Capstone---La-Batalla-de-los-Vecindarios/blob/main/Relat%C3%B3rios_da_Empresa.ipynb\" target=\"_parent\"><img src=\"https://colab.research.google.com/assets/colab-badge.svg\" alt=\"Open In Colab\"/></a>"
      ]
    },
    {
      "cell_type": "markdown",
      "metadata": {
        "id": "fxBBG9YX_Tbg"
      },
      "source": [
        "<img alt=\"Colaboratory logo\" width=\"15%\" src=\"https://raw.githubusercontent.com/carlosfab/escola-data-science/master/img/novo_logo_bg_claro.png\">\n",
        "\n",
        "#### **Python do Zero**\n",
        "*by [sigmoidal.ai](https://sigmoidal.ai)*\n",
        "\n",
        "---\n",
        "\n",
        "## Relatórios da Empresa\n",
        "\n",
        "Agora que temos as ferramentas e o conhecimento para usá-las, é hora de botar a mão na massa, e botar todo o poder de tudo que aprendemos pra funcionar na prática.\n",
        "\n",
        "\n",
        "<center><img width=\"50%\" src=\"https://image.freepik.com/free-photo/workplace-results-professional-report-accounting-during_1418-61.jpg\"></center>\n",
        "\n",
        "Em nossa jornada rumo à automação de tarefas repetitivas em nossa rotina de trabalho, vamos aprender a extrair e utilizar informações úteis de nossos documentos.\n",
        "\n",
        "Mais uma vez utilizando a biblioteca [PDF Plumber](https://github.com/jsvine/pdfplumber) vamos extrair e manipular informações de diversos relatórios em pdf ao mesmo tempo.\n",
        "\n",
        "Para isso, vamos precisar fazer o download dos arquivos de apoio que foram disponibilizados como material complementar dessa aula. \n",
        "\n",
        "Lembrando: Nativamente, o Google Colab não possui essa biblioteca instalada, então nós precisamos instalar a mesma no nosso ambiente.\n",
        "\n",
        "Para isso, vamos utilizar o gerenciador de pacotes `pip`, e com o comando `install` vamos instalar a biblioteca."
      ]
    },
    {
      "cell_type": "code",
      "metadata": {
        "id": "I2_7tlvJtpm-",
        "colab": {
          "base_uri": "https://localhost:8080/",
          "height": 394
        },
        "outputId": "aa32a360-bfbf-4804-d69e-943a84751336"
      },
      "source": [
        "# instalando o pdfplumber\n",
        "!pip install pdfplumber -q"
      ],
      "execution_count": null,
      "outputs": [
        {
          "output_type": "stream",
          "text": [
            "Collecting pdfplumber\n",
            "  Downloading https://files.pythonhosted.org/packages/2c/06/eb883f00ea3d78a2f860c593645498c39120f763d30b099cc98c4392b312/pdfplumber-0.5.23.tar.gz\n",
            "Collecting pdfminer.six==20200517\n",
            "\u001b[?25l  Downloading https://files.pythonhosted.org/packages/b0/c0/ef1c8758bbd86edb10b5443700aac97d0ba27a9ca2e7696db8cd1fdbd5a8/pdfminer.six-20200517-py3-none-any.whl (5.6MB)\n",
            "\u001b[K     |████████████████████████████████| 5.6MB 6.5MB/s \n",
            "\u001b[?25hRequirement already satisfied: Pillow>=7.0.0 in /usr/local/lib/python3.6/dist-packages (from pdfplumber) (7.0.0)\n",
            "Collecting Wand\n",
            "\u001b[?25l  Downloading https://files.pythonhosted.org/packages/82/e4/d00cdc270cad06a2dd2d3095ffe0f6541d69104db504c4e94de805e3c6e0/Wand-0.6.2-py2.py3-none-any.whl (130kB)\n",
            "\u001b[K     |████████████████████████████████| 133kB 45.4MB/s \n",
            "\u001b[?25hCollecting pycryptodome\n",
            "\u001b[?25l  Downloading https://files.pythonhosted.org/packages/17/55/17fa0b55849dc135f7bc400993a9206bf06d1b5d9520b0bc8d47c57aaef5/pycryptodome-3.9.8-cp36-cp36m-manylinux1_x86_64.whl (13.7MB)\n",
            "\u001b[K     |████████████████████████████████| 13.7MB 307kB/s \n",
            "\u001b[?25hRequirement already satisfied: chardet; python_version > \"3.0\" in /usr/local/lib/python3.6/dist-packages (from pdfminer.six==20200517->pdfplumber) (3.0.4)\n",
            "Requirement already satisfied: sortedcontainers in /usr/local/lib/python3.6/dist-packages (from pdfminer.six==20200517->pdfplumber) (2.2.2)\n",
            "Building wheels for collected packages: pdfplumber\n",
            "  Building wheel for pdfplumber (setup.py) ... \u001b[?25l\u001b[?25hdone\n",
            "  Created wheel for pdfplumber: filename=pdfplumber-0.5.23-cp36-none-any.whl size=29176 sha256=7c2123f5ecb8416f5dd303cd2ef93c4811f8f1f0c0fb76de55bd7614ccc1ddb7\n",
            "  Stored in directory: /root/.cache/pip/wheels/f6/4d/ae/abb7b92fbed5d09a835c259f26d2a3223ea929a0ad6d322097\n",
            "Successfully built pdfplumber\n",
            "Installing collected packages: pycryptodome, pdfminer.six, Wand, pdfplumber\n",
            "Successfully installed Wand-0.6.2 pdfminer.six-20200517 pdfplumber-0.5.23 pycryptodome-3.9.8\n"
          ],
          "name": "stdout"
        }
      ]
    },
    {
      "cell_type": "code",
      "metadata": {
        "id": "7bBtbhLftg2k",
        "colab": {
          "base_uri": "https://localhost:8080/",
          "height": 34
        },
        "outputId": "48b9c24b-417f-42c4-d576-e8a481c2792f"
      },
      "source": [
        "# importando os pacotes necessários\n",
        "from google.colab import drive\n",
        "import pdfplumber\n",
        "import os\n",
        "\n",
        "# montando o drive\n",
        "drive.mount('/content/gdrive')"
      ],
      "execution_count": null,
      "outputs": [
        {
          "output_type": "stream",
          "text": [
            "Mounted at /content/gdrive\n"
          ],
          "name": "stdout"
        }
      ]
    },
    {
      "cell_type": "markdown",
      "metadata": {
        "id": "6kSCw5AHBWjn"
      },
      "source": [
        "Assim que montamos o nosso drive, estamos na raiz dele. Atente-se sempre para o caminho que leva ao arquivo que você deseja acessar.\n",
        "\n",
        "Você pode fazer o upload em qualquer lugar no seu drive. Sabendo o caminho, fica fácil acessar. \n",
        "\n",
        "Normalmente, aquela tela inicial do seu drive é `/content/gdrive/My Drive`. \n",
        "\n",
        "Aqui, eu criei uma pasta `relatorios`, onde todos os arquivos de relatórios estão. Para acessar essa pasta, o caminho é:\n",
        "\n",
        "<center> /content/gdrive/My Drive/relatorios</center>\n",
        "\n",
        "Portanto, usando o método *Change Directory* através do comando `chdir` da biblioteca `os`, vamos navegar até a pasta onde se encontram os arquivos que desejamos usar."
      ]
    },
    {
      "cell_type": "code",
      "metadata": {
        "id": "ZaF8aKhZt04p"
      },
      "source": [
        "# mudar para diretório com pdfs da semana\n",
        "os.chdir(\"/content/gdrive/My Drive/relatorios\")"
      ],
      "execution_count": null,
      "outputs": []
    },
    {
      "cell_type": "markdown",
      "metadata": {
        "id": "msLIW_VVCbwV"
      },
      "source": [
        "É sempre bom garantir logo que você chegou ao diretório que deseja, antes de dar continuidade ao projeto e se deparar com erros que você não saberão a origem. Ela pode estar aqui.\n",
        "\n",
        "Para isso, mais uma vez utilizamos a biblioteca `os`, com o comando `getcwd`."
      ]
    },
    {
      "cell_type": "code",
      "metadata": {
        "id": "oshXfAkCuQl5",
        "colab": {
          "base_uri": "https://localhost:8080/",
          "height": 37
        },
        "outputId": "3f3e8125-c058-489b-d63a-1dd31bc56e1c"
      },
      "source": [
        "# checar se estou no diretório correto\n",
        "os.getcwd()"
      ],
      "execution_count": null,
      "outputs": [
        {
          "output_type": "execute_result",
          "data": {
            "application/vnd.google.colaboratory.intrinsic+json": {
              "type": "string"
            },
            "text/plain": [
              "'/content/gdrive/My Drive/relatorios'"
            ]
          },
          "metadata": {
            "tags": []
          },
          "execution_count": 4
        }
      ]
    },
    {
      "cell_type": "markdown",
      "metadata": {
        "id": "Vl9EpAzXCsV4"
      },
      "source": [
        "Estamos no repositório correto. Para conferir os arquivos que temos dentro desse diretório, podemos usar o método `listdir`, que nos retorna uma lista do conteúdo do repositórios em que estamos.\n",
        "\n",
        "Vamos salvar essa informação em uma variável para que possamos acessar esses arquivos facilmente mais pra frente."
      ]
    },
    {
      "cell_type": "code",
      "metadata": {
        "id": "gDiO-AOvuTwL",
        "colab": {
          "base_uri": "https://localhost:8080/",
          "height": 34
        },
        "outputId": "aa8c7d37-dd6e-4293-ecd1-abc738a2a417"
      },
      "source": [
        "# imprimir lista com arquivos no diretório\n",
        "arquivos_semana = os.listdir()\n",
        "print(arquivos_semana)"
      ],
      "execution_count": null,
      "outputs": [
        {
          "output_type": "stream",
          "text": [
            "['20200801.pdf', '20200802.pdf', '20200803.pdf', '20200804.pdf', '20200805.pdf']\n"
          ],
          "name": "stdout"
        }
      ]
    },
    {
      "cell_type": "markdown",
      "metadata": {
        "id": "mMsrbV89De2z"
      },
      "source": [
        "## Manipulando Relatórios\n",
        "\n",
        "Com todo o conteúdo à disposição, é hora de começar a manipular esses arquivos.\n",
        "\n",
        "Aqui, voltaremos a usar a biblioteca `pdfplumber`, que irá nos ajudar a manipular arquivos no formato pdf."
      ]
    },
    {
      "cell_type": "code",
      "metadata": {
        "id": "0e20tx0LuXJG"
      },
      "source": [
        "# abrir um relatório de exemplo\n",
        "relatorio = pdfplumber.open(\"/content/gdrive/My Drive/relatorios/20200801.pdf\")"
      ],
      "execution_count": null,
      "outputs": []
    },
    {
      "cell_type": "markdown",
      "metadata": {
        "id": "6e0IXIJDD4bk"
      },
      "source": [
        "Lembre-se: Mesmo que o arquivo tenha apenas uma página, sempre precisamos definir em que página iremos trabalhar.\n",
        "\n",
        "Vamos abrir a primeira página, e gravar essa informação em uma variável.\n",
        "\n",
        "Como a contagem começa em `0`, a primeira página do nosso arquivo está na posição `[0]`."
      ]
    },
    {
      "cell_type": "code",
      "metadata": {
        "id": "xA9BFSc1u3uo"
      },
      "source": [
        "# abrir a primeira pagina do relatorio\n",
        "pagina = relatorio.pages[0]"
      ],
      "execution_count": null,
      "outputs": []
    },
    {
      "cell_type": "markdown",
      "metadata": {
        "id": "DSOMKSBcEM-B"
      },
      "source": [
        "Mais uma vez, utilizaremos a função `extract_text()` para extrair as informações contidas no arquivo."
      ]
    },
    {
      "cell_type": "code",
      "metadata": {
        "id": "EncL3LP1vEmf",
        "colab": {
          "base_uri": "https://localhost:8080/",
          "height": 425
        },
        "outputId": "ccf9d624-70e6-4b3f-ad66-78d8d8fdacd5"
      },
      "source": [
        "# extrair o texto da primeira página do primeiro relatório\n",
        "texto = pagina.extract_text()\n",
        "print(texto)"
      ],
      "execution_count": null,
      "outputs": [
        {
          "output_type": "stream",
          "text": [
            "SIGMOIDAL\t\n",
            "\t \t\n",
            "Relatório\tDiário\t\n",
            "Data:\t01/08/2020\t\n",
            "\t\n",
            "\t\n",
            "RECEITA:\tR$\t1297.00\t\n",
            "DADOS\tATUALIZADOS\tPOR\tCARLOS\tMELO\t\n",
            "\t\n",
            "\t\n",
            "Visitantes:\t1367\t\n",
            "A\tquantidade\tde\tvisitantes\tdiz\trespeito\ta\tvisitantes\túnicos\tvisitando\tqualquer\t\n",
            "página\tdo\tdomínio\tou\tsubdomínio\tsigmoidal.ai.\tCompreende,\tentão,\tcursos,\t\n",
            "blogs\te\tlanding\tpages.\t\n",
            "\t\n",
            "Inscritos:\t33\t\n",
            "É\tconsiderado\taqui\to\tnúmero\tde\tleads\tgerados\tpor\tmeio\tde\tcadastro\t\n",
            "voluntário\tnos\tformulários\tdo\tcabeçalho,\trodapé\tou\tmateriais\tricos\t(como\t\n",
            "eBook,\tinfográficos,\tentre\toutros).\t\n",
            "\t\n",
            "Assinantes:\t6\t\n",
            "Clientes\tassinantes\tda\tEscola\tde\tData\tScience,\tconsiderando-se\to\tplano\t\n",
            "renovável\tde\tassinatura\tmensal.\t\n",
            "\t\n"
          ],
          "name": "stdout"
        }
      ]
    },
    {
      "cell_type": "markdown",
      "metadata": {
        "id": "OPDHBguREW5m"
      },
      "source": [
        "Para visualização, o processo feito acima já nos atende perfeitamente. Todas as informações estão visíveis e claras, facilitando muito a leitura das informações.\n",
        "\n",
        "Entretanto, não é assim que o Phython enxerga o que foi mostrado acima. E para que possamos manipular os dados contidos nesse arquivo e extrair deles as informações que precisamos, é necessário entender como o Python lida com esses dados."
      ]
    },
    {
      "cell_type": "markdown",
      "metadata": {
        "id": "6YyXoAuoEr8o"
      },
      "source": [
        "## Strings\n",
        "O tipo de dado que estamos utilizando aqui chama-se `String`, como já vimos em aulas anteriores. \n",
        "\n",
        "`Strings` são o tipo de dado que utilizamos para lidar com palavras, letras, textos, enfim, nossa linguagem natural.\n",
        "\n",
        "Nós ainda iremos ver em mais detalhes as formas de manipular as strings, mas em bom estilo Sigmoidal, vamos ver como utilizaremos essas manipulações na prática, para que possamos nos aprofundar em seguida."
      ]
    },
    {
      "cell_type": "markdown",
      "metadata": {
        "id": "rdFWDKtXGk0a"
      },
      "source": [
        "O texto é recebido pelo Python incluindo símbolos que representam:\n",
        "* `\\t` : a telca tab (Espaço entre palavras)\n",
        "* `\\n`: a tecla enter (Quebra de linha)"
      ]
    },
    {
      "cell_type": "code",
      "metadata": {
        "id": "FG2PC3FvxplA",
        "colab": {
          "base_uri": "https://localhost:8080/",
          "height": 122
        },
        "outputId": "2aa4b74f-1221-4236-e806-d098a79f24c2"
      },
      "source": [
        "# olhe como chega o texto\n",
        "texto"
      ],
      "execution_count": null,
      "outputs": [
        {
          "output_type": "execute_result",
          "data": {
            "application/vnd.google.colaboratory.intrinsic+json": {
              "type": "string"
            },
            "text/plain": [
              "'SIGMOIDAL\\t\\n\\t \\t\\nRelatório\\tDiário\\t\\nData:\\t01/08/2020\\t\\n\\t\\n\\t\\nRECEITA:\\tR$\\t1297.00\\t\\nDADOS\\tATUALIZADOS\\tPOR\\tCARLOS\\tMELO\\t\\n\\t\\n\\t\\nVisitantes:\\t1367\\t\\nA\\tquantidade\\tde\\tvisitantes\\tdiz\\trespeito\\ta\\tvisitantes\\túnicos\\tvisitando\\tqualquer\\t\\npágina\\tdo\\tdomínio\\tou\\tsubdomínio\\tsigmoidal.ai.\\tCompreende,\\tentão,\\tcursos,\\t\\nblogs\\te\\tlanding\\tpages.\\t\\n\\t\\nInscritos:\\t33\\t\\nÉ\\tconsiderado\\taqui\\to\\tnúmero\\tde\\tleads\\tgerados\\tpor\\tmeio\\tde\\tcadastro\\t\\nvoluntário\\tnos\\tformulários\\tdo\\tcabeçalho,\\trodapé\\tou\\tmateriais\\tricos\\t(como\\t\\neBook,\\tinfográficos,\\tentre\\toutros).\\t\\n\\t\\nAssinantes:\\t6\\t\\nClientes\\tassinantes\\tda\\tEscola\\tde\\tData\\tScience,\\tconsiderando-se\\to\\tplano\\t\\nrenovável\\tde\\tassinatura\\tmensal.\\t\\n\\t'"
            ]
          },
          "metadata": {
            "tags": []
          },
          "execution_count": 9
        }
      ]
    },
    {
      "cell_type": "markdown",
      "metadata": {
        "id": "g-8G5WpiIPrq"
      },
      "source": [
        "### split()\n",
        "\n",
        "Utilizando o método split, nós podemos dizer ao Python que separe o texto a partir de um argumento que passaremos dentro dos parênteses. Nesse caso, vamos ver como ficaria o texto, caso fizéssemos o split a partir das linhas."
      ]
    },
    {
      "cell_type": "code",
      "metadata": {
        "id": "NoEUS0xPwBps",
        "colab": {
          "base_uri": "https://localhost:8080/",
          "height": 425
        },
        "outputId": "12975351-21d6-47ab-c880-15aa6e96f025"
      },
      "source": [
        "# dividindo o texto por linhas\n",
        "texto.split(\"\\n\")"
      ],
      "execution_count": null,
      "outputs": [
        {
          "output_type": "execute_result",
          "data": {
            "text/plain": [
              "['SIGMOIDAL\\t',\n",
              " '\\t \\t',\n",
              " 'Relatório\\tDiário\\t',\n",
              " 'Data:\\t01/08/2020\\t',\n",
              " '\\t',\n",
              " '\\t',\n",
              " 'RECEITA:\\tR$\\t1297.00\\t',\n",
              " 'DADOS\\tATUALIZADOS\\tPOR\\tCARLOS\\tMELO\\t',\n",
              " '\\t',\n",
              " '\\t',\n",
              " 'Visitantes:\\t1367\\t',\n",
              " 'A\\tquantidade\\tde\\tvisitantes\\tdiz\\trespeito\\ta\\tvisitantes\\túnicos\\tvisitando\\tqualquer\\t',\n",
              " 'página\\tdo\\tdomínio\\tou\\tsubdomínio\\tsigmoidal.ai.\\tCompreende,\\tentão,\\tcursos,\\t',\n",
              " 'blogs\\te\\tlanding\\tpages.\\t',\n",
              " '\\t',\n",
              " 'Inscritos:\\t33\\t',\n",
              " 'É\\tconsiderado\\taqui\\to\\tnúmero\\tde\\tleads\\tgerados\\tpor\\tmeio\\tde\\tcadastro\\t',\n",
              " 'voluntário\\tnos\\tformulários\\tdo\\tcabeçalho,\\trodapé\\tou\\tmateriais\\tricos\\t(como\\t',\n",
              " 'eBook,\\tinfográficos,\\tentre\\toutros).\\t',\n",
              " '\\t',\n",
              " 'Assinantes:\\t6\\t',\n",
              " 'Clientes\\tassinantes\\tda\\tEscola\\tde\\tData\\tScience,\\tconsiderando-se\\to\\tplano\\t',\n",
              " 'renovável\\tde\\tassinatura\\tmensal.\\t',\n",
              " '\\t']"
            ]
          },
          "metadata": {
            "tags": []
          },
          "execution_count": 10
        }
      ]
    },
    {
      "cell_type": "markdown",
      "metadata": {
        "id": "SwryYhAlIfsI"
      },
      "source": [
        "Agora que sabemos uma forma de separar os dados, vamos buscar a informação que estamos buscando: a receita do dia.\n",
        "\n",
        "Analisando o output de cima, conseguimos identificar que essa informação está contida na sétima posição, que se encontra no índice 6, já que começamos a contagem do 0.\n",
        "\n",
        "Aqui, vamos fazer o split, como havíamos feito anteriormente, mas somente na linha [6]."
      ]
    },
    {
      "cell_type": "code",
      "metadata": {
        "id": "ikyDmT8dwKJi",
        "colab": {
          "base_uri": "https://localhost:8080/",
          "height": 37
        },
        "outputId": "5346d9af-d33c-439f-ec06-e2a753488102"
      },
      "source": [
        "# vendas sempre aparecem na 7a posição (indice 6)\n",
        "texto.split(\"\\n\")[6]"
      ],
      "execution_count": null,
      "outputs": [
        {
          "output_type": "execute_result",
          "data": {
            "application/vnd.google.colaboratory.intrinsic+json": {
              "type": "string"
            },
            "text/plain": [
              "'RECEITA:\\tR$\\t1297.00\\t'"
            ]
          },
          "metadata": {
            "tags": []
          },
          "execution_count": 11
        }
      ]
    },
    {
      "cell_type": "markdown",
      "metadata": {
        "id": "8rFJQ4OYI3Ea"
      },
      "source": [
        "### replace()\n",
        "\n",
        "Em inglês, `replace` significar substituir, e é exatamente isso que esse método faz. Utilizaremos ele para apagar as tabulações, que estão atrapalhando nossa visualização."
      ]
    },
    {
      "cell_type": "code",
      "metadata": {
        "id": "t57gS-r1wNYn",
        "colab": {
          "base_uri": "https://localhost:8080/",
          "height": 37
        },
        "outputId": "6ed92a5c-ba54-46f0-a8b6-66ea70e755b2"
      },
      "source": [
        "# retirando tabulações\n",
        "texto.split(\"\\n\")[6].replace(\"\\t\", \"\")"
      ],
      "execution_count": null,
      "outputs": [
        {
          "output_type": "execute_result",
          "data": {
            "application/vnd.google.colaboratory.intrinsic+json": {
              "type": "string"
            },
            "text/plain": [
              "'RECEITA:R$1297.00'"
            ]
          },
          "metadata": {
            "tags": []
          },
          "execution_count": 12
        }
      ]
    },
    {
      "cell_type": "markdown",
      "metadata": {
        "id": "py1HkAUOJJe1"
      },
      "source": [
        "Avançando na extração da informação, podemos utilizar o split para separar o que vem antes e depois do R$. \n",
        "\n",
        "Nós sabemos que esses dados estão em reais brasileiros, e estamos interessados apenas na parte numérica, por isso, ele não é relevante nesse momento. Vamos retirá-lo."
      ]
    },
    {
      "cell_type": "code",
      "metadata": {
        "id": "jgnXhTQEwU99",
        "colab": {
          "base_uri": "https://localhost:8080/",
          "height": 34
        },
        "outputId": "ab4d491b-f872-47ff-f2ff-9015fe4b7db2"
      },
      "source": [
        "# como queremos o que vem depois do R$, pode ser usado str.split(\"R$\")\n",
        "texto.split(\"\\n\")[6].replace(\"\\t\", \"\").split(\"R$\")"
      ],
      "execution_count": null,
      "outputs": [
        {
          "output_type": "execute_result",
          "data": {
            "text/plain": [
              "['RECEITA:', '1297.00']"
            ]
          },
          "metadata": {
            "tags": []
          },
          "execution_count": 13
        }
      ]
    },
    {
      "cell_type": "markdown",
      "metadata": {
        "id": "roiEmJxbJYNr"
      },
      "source": [
        "Como mencionamos anteriormente, estamos lidando com `strings`. \n",
        "\n",
        "Entretanto, estamos aqui para extrair e manipular números. Para que possamos fazer as operações necessárias, precisamos converter nosso resultado para uma forma numérica.\n",
        "\n",
        "Como estamos lidando com moedas, que possuem casa decimal, vamos utilizar o formato `float`.\n",
        "\n",
        "Veja a difereneça no resultado das operações caso não façamos a conversão:"
      ]
    },
    {
      "cell_type": "code",
      "metadata": {
        "id": "8Nv_JoiuJ5N1",
        "colab": {
          "base_uri": "https://localhost:8080/",
          "height": 51
        },
        "outputId": "3496c500-e63f-4dd9-a1d0-a4df822e9523"
      },
      "source": [
        "# somando strings\n",
        "strings = \"1\" + \"1\"\n",
        "print('Soma de Strings: ', strings)\n",
        "\n",
        "# somando floats\n",
        "floats = 1.0 + 1.0\n",
        "print('Soma de Floats: ', floats)"
      ],
      "execution_count": null,
      "outputs": [
        {
          "output_type": "stream",
          "text": [
            "Soma de Strings:  11\n",
            "Soma de Floats:  2.0\n"
          ],
          "name": "stdout"
        }
      ]
    },
    {
      "cell_type": "markdown",
      "metadata": {
        "id": "sENkMtPfKL5g"
      },
      "source": [
        "Para que possamos realizar operações matemáticas, precisamos converter esses números de strings, para um formato numérico.\n",
        "\n",
        "No nosso caso, como mencionamos, utilizaremos o formato float."
      ]
    },
    {
      "cell_type": "code",
      "metadata": {
        "id": "ZYSqUYb2waEj",
        "colab": {
          "base_uri": "https://localhost:8080/",
          "height": 37
        },
        "outputId": "434c5457-e1e8-47e3-fd70-4b4da9fb0da3"
      },
      "source": [
        "# valor ainda é string\n",
        "texto.split(\"\\n\")[6].replace(\"\\t\", \"\").split(\"R$\")[1]"
      ],
      "execution_count": null,
      "outputs": [
        {
          "output_type": "execute_result",
          "data": {
            "application/vnd.google.colaboratory.intrinsic+json": {
              "type": "string"
            },
            "text/plain": [
              "'1297.00'"
            ]
          },
          "metadata": {
            "tags": []
          },
          "execution_count": 15
        }
      ]
    },
    {
      "cell_type": "code",
      "metadata": {
        "id": "IPNxxZaEx6wK",
        "colab": {
          "base_uri": "https://localhost:8080/",
          "height": 34
        },
        "outputId": "a4e2faef-c95a-4756-c350-bd3593c44d4c"
      },
      "source": [
        "# transformando em float\n",
        "float(texto.split(\"\\n\")[6].replace(\"\\t\", \"\").split(\"R$\")[1])"
      ],
      "execution_count": null,
      "outputs": [
        {
          "output_type": "execute_result",
          "data": {
            "text/plain": [
              "1297.0"
            ]
          },
          "metadata": {
            "tags": []
          },
          "execution_count": 16
        }
      ]
    },
    {
      "cell_type": "markdown",
      "metadata": {
        "id": "rCzyiWc7x9lv"
      },
      "source": [
        "## Automatizando a Soma de Receita dos Relatórios\n",
        "\n",
        "Agora que sabemos como abrir, ler, e manipular os relatórios para extrair a receita de cada arquivo, é hora de criarmos uma função para fazer tudo isso pra nós.\n",
        "\n",
        "Basicamente, essa função vai iterar sobre nossos relatórios, fazer todos os passos que fizemos anteriormente, e extrair o valor de receita contido em cada um desses. Após receber os valores, ela vai somá-los, e nos retornar a receita total dos últimos 5 dias."
      ]
    },
    {
      "cell_type": "code",
      "metadata": {
        "id": "NraRRv5iWzt3",
        "colab": {
          "base_uri": "https://localhost:8080/",
          "height": 85
        },
        "outputId": "0779cbc0-dcaf-4dae-98ee-6084939be364"
      },
      "source": [
        "soma_teste = 0\n",
        "\n",
        "for letra in [1, 10, 34, 99]:\n",
        "    soma_teste = soma_teste + letra\n",
        "    print(soma_teste)"
      ],
      "execution_count": null,
      "outputs": [
        {
          "output_type": "stream",
          "text": [
            "1\n",
            "11\n",
            "45\n",
            "144\n"
          ],
          "name": "stdout"
        }
      ]
    },
    {
      "cell_type": "code",
      "metadata": {
        "id": "gCuEMJGWwdN1",
        "colab": {
          "base_uri": "https://localhost:8080/",
          "height": 102
        },
        "outputId": "dac34c83-5630-47c0-cf1d-2be7367335a4"
      },
      "source": [
        "# criando um contador\n",
        "soma = 0\n",
        "\n",
        "# criando a função\n",
        "for arquivo in arquivos_semana:\n",
        "    relatorio = pdfplumber.open(arquivo)\n",
        "    pagina = relatorio.pages[0]\n",
        "    texto = pagina.extract_text()\n",
        "    valor = texto.split(\"\\n\")[6].replace(\"\\t\", \"\").split(\"R$\")[1]\n",
        "    valor = float(valor)\n",
        "    soma = soma + valor\n",
        "    print(arquivo, \"--->\", valor)\n"
      ],
      "execution_count": null,
      "outputs": [
        {
          "output_type": "stream",
          "text": [
            "20200801.pdf ---> 1297.0\n",
            "20200802.pdf ---> 537.0\n",
            "20200803.pdf ---> 554.0\n",
            "20200804.pdf ---> 2554.0\n",
            "20200805.pdf ---> 154.0\n"
          ],
          "name": "stdout"
        }
      ]
    },
    {
      "cell_type": "markdown",
      "metadata": {
        "id": "LwEvr8j1LnrC"
      },
      "source": [
        "Após visualizar o total de cada dia, vamos ver como ficou a soma:"
      ]
    },
    {
      "cell_type": "code",
      "metadata": {
        "id": "Qi-V_Hyzwinm",
        "colab": {
          "base_uri": "https://localhost:8080/",
          "height": 35
        },
        "outputId": "105e424f-e3da-45fe-ed44-537fb7ea294a"
      },
      "source": [
        "#soma total\n",
        "print('Receita dos Últimos 5 dias: R$',soma)"
      ],
      "execution_count": null,
      "outputs": [
        {
          "output_type": "stream",
          "text": [
            "Receita dos Últimos 5 dias: R$ 5096.0\n"
          ],
          "name": "stdout"
        }
      ]
    },
    {
      "cell_type": "markdown",
      "metadata": {
        "id": "LXtJ8H-3gtLn"
      },
      "source": [
        "## Dúvidas\n",
        "\n",
        "### Leitura de arquivos\n",
        "* https://pypi.org/project/gdoc-down/ - Biblioteca para ler arquivos gdoc, html,LaTeX, word, pdf, etc.\n",
        "* Pandas - csv, excel, etc.\n",
        "\n",
        "### Manipular Strings\n",
        "\n",
        "* split vs strip (Separador vs \"retirador\")\n",
        "* revisão do notebook\n"
      ]
    },
    {
      "cell_type": "code",
      "metadata": {
        "id": "yQNhLBnDs5uK"
      },
      "source": [
        "texto_1 = 'Receita: R$200,00'\n",
        "texto_2 = 'R$200,00'"
      ],
      "execution_count": null,
      "outputs": []
    },
    {
      "cell_type": "code",
      "metadata": {
        "id": "xpNg1POWtFLL",
        "colab": {
          "base_uri": "https://localhost:8080/",
          "height": 34
        },
        "outputId": "58bbc3d9-f386-4bf4-d2e5-d561a0271aa8"
      },
      "source": [
        "texto_1.split('R$')"
      ],
      "execution_count": null,
      "outputs": [
        {
          "output_type": "execute_result",
          "data": {
            "text/plain": [
              "['Receita: ', '200,00']"
            ]
          },
          "metadata": {
            "tags": []
          },
          "execution_count": 8
        }
      ]
    },
    {
      "cell_type": "code",
      "metadata": {
        "id": "8CvbnNCwtKw2",
        "colab": {
          "base_uri": "https://localhost:8080/",
          "height": 37
        },
        "outputId": "c9148313-4522-4c5e-83f5-89448cf252df"
      },
      "source": [
        "texto_2.strip('R$')"
      ],
      "execution_count": null,
      "outputs": [
        {
          "output_type": "execute_result",
          "data": {
            "application/vnd.google.colaboratory.intrinsic+json": {
              "type": "string"
            },
            "text/plain": [
              "'200,00'"
            ]
          },
          "metadata": {
            "tags": []
          },
          "execution_count": 10
        }
      ]
    },
    {
      "cell_type": "markdown",
      "metadata": {
        "id": "Z4PmOJn_qdg5"
      },
      "source": [
        "## Booleanos\n",
        "* Função de string + Booleanos/Condicionais - Uso"
      ]
    },
    {
      "cell_type": "code",
      "metadata": {
        "id": "6vOQArJLqOc2",
        "colab": {
          "base_uri": "https://localhost:8080/",
          "height": 34
        },
        "outputId": "fb7d55f5-b3a1-4f7d-a692-579a2d6b589a"
      },
      "source": [
        "x = 'Carlos'\n",
        "y = 'carlos'\n",
        "\n",
        "x == y"
      ],
      "execution_count": null,
      "outputs": [
        {
          "output_type": "execute_result",
          "data": {
            "text/plain": [
              "False"
            ]
          },
          "metadata": {
            "tags": []
          },
          "execution_count": 3
        }
      ]
    },
    {
      "cell_type": "code",
      "metadata": {
        "id": "1102eljVqRv1",
        "colab": {
          "base_uri": "https://localhost:8080/",
          "height": 34
        },
        "outputId": "2dc171f0-f110-4f5a-868a-960e14d75e6e"
      },
      "source": [
        "x = x.lower()\n",
        "\n",
        "x == y"
      ],
      "execution_count": null,
      "outputs": [
        {
          "output_type": "execute_result",
          "data": {
            "text/plain": [
              "True"
            ]
          },
          "metadata": {
            "tags": []
          },
          "execution_count": 4
        }
      ]
    },
    {
      "cell_type": "code",
      "metadata": {
        "id": "0h6DZgIPqYnL"
      },
      "source": [],
      "execution_count": null,
      "outputs": []
    }
  ]
}