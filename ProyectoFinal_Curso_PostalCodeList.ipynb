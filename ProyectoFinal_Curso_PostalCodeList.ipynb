{
 "cells": [
  {
   "cell_type": "markdown",
   "id": "48761bf4",
   "metadata": {},
   "source": [
    "## Ciencia de Datos Aplicada - Curso Capstone Proyecto Final\n",
    "\n",
    "### Agrupación y Segmentación de Vecindarios en la Ciudad de Toronto, Canadá"
   ]
  },
  {
   "cell_type": "markdown",
   "id": "ee9d073d",
   "metadata": {},
   "source": [
    "Use el Cuaderno para crear el código para rastrear la siguiente página de Wikipedia, https://en.wikipedia.org/wiki/List_of_postal_codes_of_Canada:_M, para obtener los datos que están en la tabla de códigos postales y transformar los datos en un marco de datos de pandas "
   ]
  },
  {
   "cell_type": "markdown",
   "id": "9b674d2a",
   "metadata": {},
   "source": [
    "#### Se Instala librerias "
   ]
  },
  {
   "cell_type": "code",
   "execution_count": 5,
   "id": "061d598c",
   "metadata": {},
   "outputs": [],
   "source": [
    "import pandas as pd\n",
    "import numpy as np\n",
    "import requests\n",
    "from bs4 import BeautifulSoup"
   ]
  },
  {
   "cell_type": "markdown",
   "id": "6fa3b852",
   "metadata": {},
   "source": [
    "#### Descarga de Datos"
   ]
  },
  {
   "cell_type": "markdown",
   "id": "e51d9173",
   "metadata": {},
   "source": [
    "Por medio de **BeatifulSoup** se hace *Web Scraping* para obtener los datos de la página web que\n",
    "contiene los códigos postales de Toronto."
   ]
  },
  {
   "cell_type": "code",
   "execution_count": 6,
   "id": "91444be3",
   "metadata": {},
   "outputs": [],
   "source": [
    "URL = \"https://en.wikipedia.org/wiki/List_of_postal_codes_of_Canada:_M\"\n",
    "page = requests.get(URL)\n",
    "soup = BeautifulSoup(page.content, \"html.parser\")"
   ]
  },
  {
   "cell_type": "markdown",
   "id": "2218816f",
   "metadata": {},
   "source": [
    "Una vez hecha la sopa de datos se traen solo los datos de la tabla ya que contienen los codigos\n",
    "postales de Toronto."
   ]
  },
  {
   "cell_type": "code",
   "execution_count": 7,
   "id": "00573516",
   "metadata": {},
   "outputs": [],
   "source": [
    "table = soup.find('table')"
   ]
  },
  {
   "cell_type": "code",
   "execution_count": 19,
   "id": "791bb385",
   "metadata": {},
   "outputs": [],
   "source": [
    "file=[]\n",
    "ncol=list(range(0,9))\n",
    "\n",
    "for i in ncol :\n",
    "    \n",
    "    for row in table.find_all('tr'): # in html table row is represented by the table\n",
    "    # Get all columns in each row.\n",
    "        cols = row.find_all('p') # in html a column is represented by the tag td or p\n",
    "        file.append(cols[i].getText())\n",
    "\n",
    "    # convert to dataframe:\n",
    "df= pd.DataFrame(file)"
   ]
  },
  {
   "cell_type": "markdown",
   "id": "17017ac7",
   "metadata": {},
   "source": [
    "Despues de traer los datos que estan contenidos en la tabla, por medio de **pandas** se le da formato a la tabla para obtener la salida deseada."
   ]
  },
  {
   "cell_type": "code",
   "execution_count": 23,
   "id": "cb8843ef",
   "metadata": {},
   "outputs": [],
   "source": [
    "df[\"PostalCode\"]=df[0].str[0:3]\n",
    "df[\"Borough\"]=df[0].str[3:].str.split(\"(\",n=1,expand=True)[0]\n",
    "df[\"Neigh\"]=df[0].str.rsplit(\"(\",n=2,expand=True)[1].str.split(\")\",n=1,expand=True)\n",
    "df[\"Neighbourhood\"]=df[\"Neigh\"].str.replace(\" / \",\",\")"
   ]
  },
  {
   "cell_type": "code",
   "execution_count": 24,
   "id": "0686eec1",
   "metadata": {},
   "outputs": [],
   "source": [
    "postalcode_list=df[(df[\"Borough\"]!=\"Not assigned\\n\")]\n",
    "postalcode_list=postalcode_list.drop([0],axis=1)"
   ]
  },
  {
   "cell_type": "code",
   "execution_count": 25,
   "id": "1cc40f4f",
   "metadata": {},
   "outputs": [
    {
     "data": {
      "text/html": [
       "<div>\n",
       "<style scoped>\n",
       "    .dataframe tbody tr th:only-of-type {\n",
       "        vertical-align: middle;\n",
       "    }\n",
       "\n",
       "    .dataframe tbody tr th {\n",
       "        vertical-align: top;\n",
       "    }\n",
       "\n",
       "    .dataframe thead th {\n",
       "        text-align: right;\n",
       "    }\n",
       "</style>\n",
       "<table border=\"1\" class=\"dataframe\">\n",
       "  <thead>\n",
       "    <tr style=\"text-align: right;\">\n",
       "      <th></th>\n",
       "      <th>PostalCode</th>\n",
       "      <th>Borough</th>\n",
       "      <th>Neigh</th>\n",
       "      <th>Neighbourhood</th>\n",
       "    </tr>\n",
       "  </thead>\n",
       "  <tbody>\n",
       "    <tr>\n",
       "      <th>1</th>\n",
       "      <td>M1B</td>\n",
       "      <td>Scarborough</td>\n",
       "      <td>Malvern / Rouge</td>\n",
       "      <td>Malvern,Rouge</td>\n",
       "    </tr>\n",
       "    <tr>\n",
       "      <th>2</th>\n",
       "      <td>M1C</td>\n",
       "      <td>Scarborough</td>\n",
       "      <td>Rouge Hill / Port Union / Highland Creek</td>\n",
       "      <td>Rouge Hill,Port Union,Highland Creek</td>\n",
       "    </tr>\n",
       "    <tr>\n",
       "      <th>3</th>\n",
       "      <td>M1E</td>\n",
       "      <td>Scarborough</td>\n",
       "      <td>Guildwood / Morningside / West Hill</td>\n",
       "      <td>Guildwood,Morningside,West Hill</td>\n",
       "    </tr>\n",
       "    <tr>\n",
       "      <th>4</th>\n",
       "      <td>M1G</td>\n",
       "      <td>Scarborough</td>\n",
       "      <td>Woburn</td>\n",
       "      <td>Woburn</td>\n",
       "    </tr>\n",
       "    <tr>\n",
       "      <th>5</th>\n",
       "      <td>M1H</td>\n",
       "      <td>Scarborough</td>\n",
       "      <td>Cedarbrae</td>\n",
       "      <td>Cedarbrae</td>\n",
       "    </tr>\n",
       "  </tbody>\n",
       "</table>\n",
       "</div>"
      ],
      "text/plain": [
       "  PostalCode      Borough                                     Neigh  \\\n",
       "1        M1B  Scarborough                           Malvern / Rouge   \n",
       "2        M1C  Scarborough  Rouge Hill / Port Union / Highland Creek   \n",
       "3        M1E  Scarborough       Guildwood / Morningside / West Hill   \n",
       "4        M1G  Scarborough                                    Woburn   \n",
       "5        M1H  Scarborough                                 Cedarbrae   \n",
       "\n",
       "                          Neighbourhood  \n",
       "1                         Malvern,Rouge  \n",
       "2  Rouge Hill,Port Union,Highland Creek  \n",
       "3       Guildwood,Morningside,West Hill  \n",
       "4                                Woburn  \n",
       "5                             Cedarbrae  "
      ]
     },
     "execution_count": 25,
     "metadata": {},
     "output_type": "execute_result"
    }
   ],
   "source": [
    "postalcode_list.head()"
   ]
  },
  {
   "cell_type": "code",
   "execution_count": 26,
   "id": "650a3a00",
   "metadata": {},
   "outputs": [
    {
     "data": {
      "text/plain": [
       "(103, 4)"
      ]
     },
     "execution_count": 26,
     "metadata": {},
     "output_type": "execute_result"
    }
   ],
   "source": [
    "postalcode_list.shape"
   ]
  }
 ],
 "metadata": {
  "kernelspec": {
   "display_name": "Python 3",
   "language": "python",
   "name": "python3"
  },
  "language_info": {
   "codemirror_mode": {
    "name": "ipython",
    "version": 3
   },
   "file_extension": ".py",
   "mimetype": "text/x-python",
   "name": "python",
   "nbconvert_exporter": "python",
   "pygments_lexer": "ipython3",
   "version": "3.8.8"
  }
 },
 "nbformat": 4,
 "nbformat_minor": 5
}
