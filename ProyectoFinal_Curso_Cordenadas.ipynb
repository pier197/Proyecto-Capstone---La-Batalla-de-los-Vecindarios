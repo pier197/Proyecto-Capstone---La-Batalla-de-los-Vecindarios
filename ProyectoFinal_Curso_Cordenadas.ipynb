{
 "cells": [
  {
   "cell_type": "markdown",
   "id": "48761bf4",
   "metadata": {},
   "source": [
    "## Ciencia de Datos Aplicada - Curso Capstone Proyecto Final\n",
    "\n",
    "### Agrupación y Segmentación de Vecindarios en la Ciudad de Toronto, Canadá"
   ]
  },
  {
   "cell_type": "markdown",
   "id": "ee9d073d",
   "metadata": {},
   "source": [
    "Use el Cuaderno para crear el código para rastrear la siguiente página de Wikipedia, https://en.wikipedia.org/wiki/List_of_postal_codes_of_Canada:_M, para obtener los datos que están en la tabla de códigos postales y transformar los datos en un marco de datos de pandas "
   ]
  },
  {
   "cell_type": "markdown",
   "id": "9b674d2a",
   "metadata": {},
   "source": [
    "#### Se Instala librerias "
   ]
  },
  {
   "cell_type": "code",
   "execution_count": 14,
   "id": "061d598c",
   "metadata": {},
   "outputs": [],
   "source": [
    "import pandas as pd\n",
    "import numpy as np\n",
    "import requests\n",
    "from bs4 import BeautifulSoup"
   ]
  },
  {
   "cell_type": "markdown",
   "id": "6fa3b852",
   "metadata": {},
   "source": [
    "### Web Scrapin de los Datos "
   ]
  },
  {
   "cell_type": "markdown",
   "id": "e51d9173",
   "metadata": {},
   "source": [
    "Por medio de **BeatifulSoup** se hace *Web Scraping* para obtener los datos de la página web que\n",
    "contiene los códigos postales de Toronto."
   ]
  },
  {
   "cell_type": "code",
   "execution_count": 15,
   "id": "91444be3",
   "metadata": {},
   "outputs": [],
   "source": [
    "URL = \"https://en.wikipedia.org/wiki/List_of_postal_codes_of_Canada:_M\"\n",
    "page = requests.get(URL)\n",
    "soup = BeautifulSoup(page.content, \"html.parser\")"
   ]
  },
  {
   "cell_type": "markdown",
   "id": "2218816f",
   "metadata": {},
   "source": [
    "Una vez hecha la sopa de datos se traen solo los datos de la tabla ya que contienen los codigos\n",
    "postales de Toronto."
   ]
  },
  {
   "cell_type": "code",
   "execution_count": 16,
   "id": "00573516",
   "metadata": {},
   "outputs": [],
   "source": [
    "table = soup.find('table')"
   ]
  },
  {
   "cell_type": "code",
   "execution_count": 17,
   "id": "791bb385",
   "metadata": {},
   "outputs": [],
   "source": [
    "file=[]\n",
    "ncol=list(range(0,9))\n",
    "\n",
    "for i in ncol :\n",
    "    \n",
    "    for row in table.find_all('tr'): # in html table row is represented by the table\n",
    "    # Get all columns in each row.\n",
    "        cols = row.find_all('p') # in html a column is represented by the tag td or p\n",
    "        file.append(cols[i].getText())\n",
    "\n",
    "    # convert to dataframe:\n",
    "df= pd.DataFrame(file)"
   ]
  },
  {
   "cell_type": "markdown",
   "id": "eb97e42d",
   "metadata": {},
   "source": [
    "#### Tabla de Códigos Postales"
   ]
  },
  {
   "cell_type": "markdown",
   "id": "17017ac7",
   "metadata": {},
   "source": [
    "Despues de traer los datos que estan contenidos en la tabla, por medio de **pandas** se le da formato a la tabla para obtener la salida deseada."
   ]
  },
  {
   "cell_type": "code",
   "execution_count": 24,
   "id": "cb8843ef",
   "metadata": {},
   "outputs": [],
   "source": [
    "df[\"Postal Code\"]=df[0].str[0:3]\n",
    "df[\"Borough\"]=df[0].str[3:].str.split(\"(\",n=1,expand=True)[0]\n",
    "df[\"Neigh\"]=df[0].str.rsplit(\"(\",n=2,expand=True)[1].str.split(\")\",n=1,expand=True)\n",
    "df[\"Neighbourhood\"]=df[\"Neigh\"].str.replace(\" / \",\",\")"
   ]
  },
  {
   "cell_type": "code",
   "execution_count": 25,
   "id": "0686eec1",
   "metadata": {},
   "outputs": [],
   "source": [
    "postalcode_list=df[(df[\"Borough\"]!=\"Not assigned\\n\")]\n",
    "postalcode_list=postalcode_list.drop([0],axis=1)"
   ]
  },
  {
   "cell_type": "code",
   "execution_count": 26,
   "id": "1cc40f4f",
   "metadata": {},
   "outputs": [
    {
     "data": {
      "text/html": [
       "<div>\n",
       "<style scoped>\n",
       "    .dataframe tbody tr th:only-of-type {\n",
       "        vertical-align: middle;\n",
       "    }\n",
       "\n",
       "    .dataframe tbody tr th {\n",
       "        vertical-align: top;\n",
       "    }\n",
       "\n",
       "    .dataframe thead th {\n",
       "        text-align: right;\n",
       "    }\n",
       "</style>\n",
       "<table border=\"1\" class=\"dataframe\">\n",
       "  <thead>\n",
       "    <tr style=\"text-align: right;\">\n",
       "      <th></th>\n",
       "      <th>Postal Code</th>\n",
       "      <th>Borough</th>\n",
       "      <th>Neigh</th>\n",
       "      <th>Neighbourhood</th>\n",
       "    </tr>\n",
       "  </thead>\n",
       "  <tbody>\n",
       "    <tr>\n",
       "      <th>1</th>\n",
       "      <td>M1B</td>\n",
       "      <td>Scarborough</td>\n",
       "      <td>Malvern / Rouge</td>\n",
       "      <td>Malvern,Rouge</td>\n",
       "    </tr>\n",
       "    <tr>\n",
       "      <th>2</th>\n",
       "      <td>M1C</td>\n",
       "      <td>Scarborough</td>\n",
       "      <td>Rouge Hill / Port Union / Highland Creek</td>\n",
       "      <td>Rouge Hill,Port Union,Highland Creek</td>\n",
       "    </tr>\n",
       "    <tr>\n",
       "      <th>3</th>\n",
       "      <td>M1E</td>\n",
       "      <td>Scarborough</td>\n",
       "      <td>Guildwood / Morningside / West Hill</td>\n",
       "      <td>Guildwood,Morningside,West Hill</td>\n",
       "    </tr>\n",
       "    <tr>\n",
       "      <th>4</th>\n",
       "      <td>M1G</td>\n",
       "      <td>Scarborough</td>\n",
       "      <td>Woburn</td>\n",
       "      <td>Woburn</td>\n",
       "    </tr>\n",
       "    <tr>\n",
       "      <th>5</th>\n",
       "      <td>M1H</td>\n",
       "      <td>Scarborough</td>\n",
       "      <td>Cedarbrae</td>\n",
       "      <td>Cedarbrae</td>\n",
       "    </tr>\n",
       "  </tbody>\n",
       "</table>\n",
       "</div>"
      ],
      "text/plain": [
       "  Postal Code      Borough                                     Neigh  \\\n",
       "1         M1B  Scarborough                           Malvern / Rouge   \n",
       "2         M1C  Scarborough  Rouge Hill / Port Union / Highland Creek   \n",
       "3         M1E  Scarborough       Guildwood / Morningside / West Hill   \n",
       "4         M1G  Scarborough                                    Woburn   \n",
       "5         M1H  Scarborough                                 Cedarbrae   \n",
       "\n",
       "                          Neighbourhood  \n",
       "1                         Malvern,Rouge  \n",
       "2  Rouge Hill,Port Union,Highland Creek  \n",
       "3       Guildwood,Morningside,West Hill  \n",
       "4                                Woburn  \n",
       "5                             Cedarbrae  "
      ]
     },
     "execution_count": 26,
     "metadata": {},
     "output_type": "execute_result"
    }
   ],
   "source": [
    "postalcode_list.head()"
   ]
  },
  {
   "cell_type": "code",
   "execution_count": 27,
   "id": "650a3a00",
   "metadata": {},
   "outputs": [
    {
     "data": {
      "text/plain": [
       "(103, 4)"
      ]
     },
     "execution_count": 27,
     "metadata": {},
     "output_type": "execute_result"
    }
   ],
   "source": [
    "postalcode_list.shape"
   ]
  },
  {
   "cell_type": "markdown",
   "id": "20fdab50",
   "metadata": {},
   "source": [
    "### Cordenadas de Latitud y Longitud"
   ]
  },
  {
   "cell_type": "markdown",
   "id": "002a35cb",
   "metadata": {},
   "source": [
    "Por medio del paquete Geocoder Python: https://geocoder.readthedocs.io/index.html. Se obtienen los datos de Latitud y Longitud para cada código postal.\n",
    "\n",
    "Para asegurarse de obtener las coordenadas de todos los vecindarios, se puede ejecutar un ciclo while para cada código postal. "
   ]
  },
  {
   "cell_type": "code",
   "execution_count": 28,
   "id": "dfdeca6f",
   "metadata": {},
   "outputs": [],
   "source": [
    "#\"http://cocl.us/Geospatial_data\"\n",
    "Geospatial_Coordinates=pd.read_csv(\"Geospatial_Coordinates.csv\")"
   ]
  },
  {
   "cell_type": "code",
   "execution_count": 29,
   "id": "63188caa",
   "metadata": {},
   "outputs": [],
   "source": [
    "coord_list=pd.merge(postalcode_list,Geospatial_Coordinates,on=\"Postal Code\")"
   ]
  },
  {
   "cell_type": "code",
   "execution_count": 30,
   "id": "9bd0398b",
   "metadata": {},
   "outputs": [
    {
     "data": {
      "text/html": [
       "<div>\n",
       "<style scoped>\n",
       "    .dataframe tbody tr th:only-of-type {\n",
       "        vertical-align: middle;\n",
       "    }\n",
       "\n",
       "    .dataframe tbody tr th {\n",
       "        vertical-align: top;\n",
       "    }\n",
       "\n",
       "    .dataframe thead th {\n",
       "        text-align: right;\n",
       "    }\n",
       "</style>\n",
       "<table border=\"1\" class=\"dataframe\">\n",
       "  <thead>\n",
       "    <tr style=\"text-align: right;\">\n",
       "      <th></th>\n",
       "      <th>Postal Code</th>\n",
       "      <th>Borough</th>\n",
       "      <th>Neigh</th>\n",
       "      <th>Neighbourhood</th>\n",
       "      <th>Latitude</th>\n",
       "      <th>Longitude</th>\n",
       "    </tr>\n",
       "  </thead>\n",
       "  <tbody>\n",
       "    <tr>\n",
       "      <th>0</th>\n",
       "      <td>M1B</td>\n",
       "      <td>Scarborough</td>\n",
       "      <td>Malvern / Rouge</td>\n",
       "      <td>Malvern,Rouge</td>\n",
       "      <td>43.806686</td>\n",
       "      <td>-79.194353</td>\n",
       "    </tr>\n",
       "    <tr>\n",
       "      <th>1</th>\n",
       "      <td>M1C</td>\n",
       "      <td>Scarborough</td>\n",
       "      <td>Rouge Hill / Port Union / Highland Creek</td>\n",
       "      <td>Rouge Hill,Port Union,Highland Creek</td>\n",
       "      <td>43.784535</td>\n",
       "      <td>-79.160497</td>\n",
       "    </tr>\n",
       "    <tr>\n",
       "      <th>2</th>\n",
       "      <td>M1E</td>\n",
       "      <td>Scarborough</td>\n",
       "      <td>Guildwood / Morningside / West Hill</td>\n",
       "      <td>Guildwood,Morningside,West Hill</td>\n",
       "      <td>43.763573</td>\n",
       "      <td>-79.188711</td>\n",
       "    </tr>\n",
       "    <tr>\n",
       "      <th>3</th>\n",
       "      <td>M1G</td>\n",
       "      <td>Scarborough</td>\n",
       "      <td>Woburn</td>\n",
       "      <td>Woburn</td>\n",
       "      <td>43.770992</td>\n",
       "      <td>-79.216917</td>\n",
       "    </tr>\n",
       "    <tr>\n",
       "      <th>4</th>\n",
       "      <td>M1H</td>\n",
       "      <td>Scarborough</td>\n",
       "      <td>Cedarbrae</td>\n",
       "      <td>Cedarbrae</td>\n",
       "      <td>43.773136</td>\n",
       "      <td>-79.239476</td>\n",
       "    </tr>\n",
       "  </tbody>\n",
       "</table>\n",
       "</div>"
      ],
      "text/plain": [
       "  Postal Code      Borough                                     Neigh  \\\n",
       "0         M1B  Scarborough                           Malvern / Rouge   \n",
       "1         M1C  Scarborough  Rouge Hill / Port Union / Highland Creek   \n",
       "2         M1E  Scarborough       Guildwood / Morningside / West Hill   \n",
       "3         M1G  Scarborough                                    Woburn   \n",
       "4         M1H  Scarborough                                 Cedarbrae   \n",
       "\n",
       "                          Neighbourhood   Latitude  Longitude  \n",
       "0                         Malvern,Rouge  43.806686 -79.194353  \n",
       "1  Rouge Hill,Port Union,Highland Creek  43.784535 -79.160497  \n",
       "2       Guildwood,Morningside,West Hill  43.763573 -79.188711  \n",
       "3                                Woburn  43.770992 -79.216917  \n",
       "4                             Cedarbrae  43.773136 -79.239476  "
      ]
     },
     "execution_count": 30,
     "metadata": {},
     "output_type": "execute_result"
    }
   ],
   "source": [
    "coord_list.head()"
   ]
  }
 ],
 "metadata": {
  "kernelspec": {
   "display_name": "Python 3 (ipykernel)",
   "language": "python",
   "name": "python3"
  },
  "language_info": {
   "codemirror_mode": {
    "name": "ipython",
    "version": 3
   },
   "file_extension": ".py",
   "mimetype": "text/x-python",
   "name": "python",
   "nbconvert_exporter": "python",
   "pygments_lexer": "ipython3",
   "version": "3.9.12"
  }
 },
 "nbformat": 4,
 "nbformat_minor": 5
}
