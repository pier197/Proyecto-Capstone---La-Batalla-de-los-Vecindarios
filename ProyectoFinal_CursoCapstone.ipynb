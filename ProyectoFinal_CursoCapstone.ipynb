{
 "cells": [
  {
   "cell_type": "markdown",
   "id": "48761bf4",
   "metadata": {},
   "source": [
    "## Ciencia de Datos Aplicada - Curso Capstone Proyecto Final"
   ]
  },
  {
   "cell_type": "code",
   "execution_count": 2,
   "id": "061d598c",
   "metadata": {},
   "outputs": [],
   "source": [
    "import pandas as pd\n",
    "import numpy as np"
   ]
  },
  {
   "cell_type": "code",
   "execution_count": 1,
   "id": "00573516",
   "metadata": {},
   "outputs": [
    {
     "name": "stdout",
     "output_type": "stream",
     "text": [
      "¡Hola, Proyecto Final del Curso!\n"
     ]
    }
   ],
   "source": [
    "print(\"¡Hola, Proyecto Final del Curso!\")"
   ]
  }
 ],
 "metadata": {
  "kernelspec": {
   "display_name": "Python 3",
   "language": "python",
   "name": "python3"
  },
  "language_info": {
   "codemirror_mode": {
    "name": "ipython",
    "version": 3
   },
   "file_extension": ".py",
   "mimetype": "text/x-python",
   "name": "python",
   "nbconvert_exporter": "python",
   "pygments_lexer": "ipython3",
   "version": "3.8.8"
  }
 },
 "nbformat": 4,
 "nbformat_minor": 5
}
