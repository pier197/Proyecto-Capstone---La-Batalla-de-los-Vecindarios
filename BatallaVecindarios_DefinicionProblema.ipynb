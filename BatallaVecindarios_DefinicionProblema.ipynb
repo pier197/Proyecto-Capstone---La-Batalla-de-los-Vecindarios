{
 "cells": [
  {
   "cell_type": "markdown",
   "metadata": {},
   "source": [
    "## Proyecto Final Batalla de los Vecindarios"
   ]
  },
  {
   "cell_type": "markdown",
   "metadata": {},
   "source": [
    "### Definición del Problema Comercial\n",
    "Después de la Pandema, se ha observado que muchos han empezado a moverse de \n",
    "las grandes ciudades a hacia ciudades mas pequeñas en busqueda de sitios mas tranquilos gracias a la posibilidad del trabajo virtual. \n",
    "\n",
    "Por eso un grupo de inversionistas quieren hacer un estudio en la Costa Atlántica Argentina para determinar la ciudad con mayor potencial para desarrollar en un proyecto inmobiliario."
   ]
  }
 ],
 "metadata": {
  "kernelspec": {
   "display_name": "Python 3 (ipykernel)",
   "language": "python",
   "name": "python3"
  },
  "language_info": {
   "codemirror_mode": {
    "name": "ipython",
    "version": 3
   },
   "file_extension": ".py",
   "mimetype": "text/x-python",
   "name": "python",
   "nbconvert_exporter": "python",
   "pygments_lexer": "ipython3",
   "version": "3.9.12"
  }
 },
 "nbformat": 4,
 "nbformat_minor": 2
}
